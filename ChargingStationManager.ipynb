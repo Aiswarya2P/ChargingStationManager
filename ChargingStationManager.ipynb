{
 "cells": [
  {
   "cell_type": "code",
   "execution_count": 1,
   "id": "04130efb-f959-432e-9862-31bcc83d74f0",
   "metadata": {},
   "outputs": [
    {
     "name": "stdout",
     "output_type": "stream",
     "text": [
      "Total energy consumed by V001: 25.2 kWh\n",
      "All charging sessions:\n",
      "[{'vehicle_id': 'V001', 'session_id': 'S001', 'energy_consumed_kwh': 15.2, 'charging_duration': 120, 'cost': 10.5}, {'vehicle_id': 'V002', 'session_id': 'S002', 'energy_consumed_kwh': 22.1, 'charging_duration': 150, 'cost': 15.75}, {'vehicle_id': 'V001', 'session_id': 'S003', 'energy_consumed_kwh': 10.0, 'charging_duration': 90, 'cost': 7.5}]\n"
     ]
    }
   ],
   "source": [
    "class ChargingStationManager:\n",
    "    def __init__(self):\n",
    "        # Initialize a dictionary to hold charging sessions\n",
    "        self.sessions = []\n",
    "\n",
    "    def add_charging_session(self, vehicle_id, session_id, energy_consumed_kwh, charging_duration, cost):\n",
    "        \"\"\"Adds a charging session to the manager.\"\"\"\n",
    "        session = {\n",
    "            'vehicle_id': vehicle_id,\n",
    "            'session_id': session_id,\n",
    "            'energy_consumed_kwh': energy_consumed_kwh,\n",
    "            'charging_duration': charging_duration,\n",
    "            'cost': cost\n",
    "        }\n",
    "        self.sessions.append(session)\n",
    "\n",
    "    def compute_total_energy_consumption(self, vehicle_id):\n",
    "        \"\"\"Computes the total energy consumption for a given vehicle.\"\"\"\n",
    "        total_energy = sum(session['energy_consumed_kwh'] for session in self.sessions if session['vehicle_id'] == vehicle_id)\n",
    "        return total_energy\n",
    "\n",
    "    def get_sessions(self):\n",
    "        \"\"\"Returns all charging sessions.\"\"\"\n",
    "        return self.sessions\n",
    "\n",
    "# Example usage:\n",
    "if __name__ == \"__main__\":\n",
    "    manager = ChargingStationManager()\n",
    "\n",
    "    # Adding charging sessions\n",
    "    manager.add_charging_session(\"V001\", \"S001\", 15.2, 120, 10.50)\n",
    "    manager.add_charging_session(\"V002\", \"S002\", 22.1, 150, 15.75)\n",
    "    manager.add_charging_session(\"V001\", \"S003\", 10.0, 90, 7.50)\n",
    "\n",
    "    # Compute total energy consumption for vehicle V001\n",
    "    total_energy_v001 = manager.compute_total_energy_consumption(\"V001\")\n",
    "    print(f\"Total energy consumed by V001: {total_energy_v001} kWh\")\n",
    "\n",
    "    # Output all sessions\n",
    "    print(\"All charging sessions:\")\n",
    "    print(manager.get_sessions())\n"
   ]
  },
  {
   "cell_type": "code",
   "execution_count": null,
   "id": "8bb22431-d0ff-4df0-894c-44fa4cdb8073",
   "metadata": {},
   "outputs": [],
   "source": []
  }
 ],
 "metadata": {
  "kernelspec": {
   "display_name": "Python 3 (ipykernel)",
   "language": "python",
   "name": "python3"
  },
  "language_info": {
   "codemirror_mode": {
    "name": "ipython",
    "version": 3
   },
   "file_extension": ".py",
   "mimetype": "text/x-python",
   "name": "python",
   "nbconvert_exporter": "python",
   "pygments_lexer": "ipython3",
   "version": "3.12.2"
  }
 },
 "nbformat": 4,
 "nbformat_minor": 5
}
